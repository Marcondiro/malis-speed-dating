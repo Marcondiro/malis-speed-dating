{
 "cells": [
  {
   "attachments": {},
   "cell_type": "markdown",
   "metadata": {},
   "source": [
    "# Isolation Forest\n",
    "\n",
    "We want to follow a completely different approach, and see if we can treat _True_ samples as outliers/novelties, by applying an unsupervised ensamble approach (the Isolation Forest)."
   ]
  },
  {
   "cell_type": "code",
   "execution_count": 12,
   "metadata": {},
   "outputs": [],
   "source": [
    "import numpy as np\n",
    "from sklearn.ensemble import IsolationForest\n",
    "from sklearn.metrics import recall_score, f1_score, balanced_accuracy_score\n",
    "from preprocessing import load_dataset, split_train_test_validation, interactions\n",
    "from utilities import print_log, print_full"
   ]
  },
  {
   "attachments": {},
   "cell_type": "markdown",
   "metadata": {},
   "source": [
    "First, we import the dataset and we split it."
   ]
  },
  {
   "cell_type": "code",
   "execution_count": 13,
   "metadata": {},
   "outputs": [],
   "source": [
    "test_size = 0.1        # the ratio of the dataset we want to use as test set\n",
    "val_size = 0.2         # the ratio of the dataset we want to use as validation set\n",
    "stratify=True\n",
    "\n",
    "# first, we load the dataset\n",
    "X, y = load_dataset('./data/data.pkl')\n",
    "# then, we split it\n",
    "X_tr, y_tr, X_te, y_te, X_val, y_val = split_train_test_validation(X, y, test=test_size, val=val_size, stratify=stratify)\n",
    "\n",
    "# generate the dataset version with interaction, with/without drop\n",
    "X_tr_drop = interactions(X_tr, drop=True)\n",
    "X_tr_int = interactions(X_tr, drop=False)\n",
    "\n",
    "X_val_drop = interactions(X_val, drop=True)\n",
    "X_val_int = interactions(X_val, drop=False)"
   ]
  },
  {
   "attachments": {},
   "cell_type": "markdown",
   "metadata": {},
   "source": [
    "Then, we create the Isolation Forest model."
   ]
  },
  {
   "cell_type": "code",
   "execution_count": 14,
   "metadata": {},
   "outputs": [],
   "source": [
    "if_model = IsolationForest()"
   ]
  },
  {
   "attachments": {},
   "cell_type": "markdown",
   "metadata": {},
   "source": [
    "## No interactions\n",
    "First of all, we try to apply the model on the standard dataset (without interactions). We fit the model on the training set, and then we apply it to the validation set.\n",
    "\n",
    "If the predicted result is **+1**, then it is an _inlier_, meaning it should be labeled as 0. Otherwise, if the result is **-1**, it is an _outlier_, therefore it should be labeled as 1."
   ]
  },
  {
   "cell_type": "code",
   "execution_count": 15,
   "metadata": {},
   "outputs": [
    {
     "name": "stdout",
     "output_type": "stream",
     "text": [
      "-----------------------------------------\n",
      "Recall : 0.0\n",
      "Balanced accuracy: 0.4974905897114178\n",
      "f1: 0.0\n"
     ]
    }
   ],
   "source": [
    "# fit the model\n",
    "if_fit = if_model.fit(X_tr)\n",
    "# predict if it is an inlier\n",
    "is_inlier = np.array(if_fit.predict(X_val))\n",
    "# map the result as follows\n",
    "#   inlier (+1) -> 0\n",
    "#   outlier (-1) -> 1\n",
    "y_pred = (1-is_inlier)/2\n",
    "# compute metrics\n",
    "res = {\n",
    "    'best_recall': recall_score(y_val, y_pred),\n",
    "    'best_balanced_accuracy': balanced_accuracy_score(y_val, y_pred),\n",
    "    'best_f1': f1_score(y_val, y_pred),\n",
    "}\n",
    "# print results\n",
    "print_log(res, is_grid=False)"
   ]
  },
  {
   "attachments": {},
   "cell_type": "markdown",
   "metadata": {},
   "source": [
    "## Interactions, no drop"
   ]
  },
  {
   "cell_type": "code",
   "execution_count": 16,
   "metadata": {},
   "outputs": [
    {
     "name": "stdout",
     "output_type": "stream",
     "text": [
      "-----------------------------------------\n",
      "Recall : 0.006802721088435374\n",
      "Balanced accuracy: 0.501519302827781\n",
      "f1: 0.01324503311258278\n"
     ]
    }
   ],
   "source": [
    "# fit the model\n",
    "if_fit = if_model.fit(X_tr_int)\n",
    "# predict if it is an inlier\n",
    "is_inlier = np.array(if_fit.predict(X_val_int))\n",
    "# map the result as follows\n",
    "#   inlier (+1) -> 0\n",
    "#   outlier (-1) -> 1\n",
    "y_pred = (1-is_inlier)/2\n",
    "# compute metrics\n",
    "res = {\n",
    "    'best_recall': recall_score(y_val, y_pred),\n",
    "    'best_balanced_accuracy': balanced_accuracy_score(y_val, y_pred),\n",
    "    'best_f1': f1_score(y_val, y_pred),\n",
    "}\n",
    "# print results\n",
    "print_log(res, is_grid=False)"
   ]
  },
  {
   "attachments": {},
   "cell_type": "markdown",
   "metadata": {},
   "source": [
    "## Interactions, drop"
   ]
  },
  {
   "cell_type": "code",
   "execution_count": 17,
   "metadata": {},
   "outputs": [
    {
     "name": "stdout",
     "output_type": "stream",
     "text": [
      "-----------------------------------------\n",
      "Recall : 0.034013605442176874\n",
      "Balanced accuracy: 0.5075965141389053\n",
      "f1: 0.05988023952095809\n"
     ]
    }
   ],
   "source": [
    "# fit the model\n",
    "if_fit = if_model.fit(X_tr_drop)\n",
    "# predict if it is an inlier\n",
    "is_inlier = np.array(if_fit.predict(X_val_drop))\n",
    "# map the result as follows\n",
    "#   inlier (+1) -> 0\n",
    "#   outlier (-1) -> 1\n",
    "y_pred = (1-is_inlier)/2\n",
    "# compute metrics\n",
    "res = {\n",
    "    'best_recall': recall_score(y_val, y_pred),\n",
    "    'best_balanced_accuracy': balanced_accuracy_score(y_val, y_pred),\n",
    "    'best_f1': f1_score(y_val, y_pred),\n",
    "}\n",
    "# print results\n",
    "print_log(res, is_grid=False)"
   ]
  }
 ],
 "metadata": {
  "kernelspec": {
   "display_name": "malis",
   "language": "python",
   "name": "python3"
  },
  "language_info": {
   "codemirror_mode": {
    "name": "ipython",
    "version": 3
   },
   "file_extension": ".py",
   "mimetype": "text/x-python",
   "name": "python",
   "nbconvert_exporter": "python",
   "pygments_lexer": "ipython3",
   "version": "3.8.15"
  },
  "orig_nbformat": 4,
  "vscode": {
   "interpreter": {
    "hash": "ed4e3ac2dee6d7ea23d9357d8763e97335b161f3cf4ef28228558896c7dee292"
   }
  }
 },
 "nbformat": 4,
 "nbformat_minor": 2
}
