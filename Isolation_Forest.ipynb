{
 "cells": [
  {
   "attachments": {},
   "cell_type": "markdown",
   "metadata": {},
   "source": [
    "# Isolation Forest\n",
    "\n",
    "We want to follow a completely different approach, and see if we can treat _True_ samples as outliers/novelties, by applying an unsupervised ensamble approach (the Isolation Forest)."
   ]
  },
  {
   "cell_type": "code",
   "execution_count": 19,
   "metadata": {},
   "outputs": [],
   "source": [
    "import numpy as np\n",
    "from sklearn.ensemble import IsolationForest\n",
    "from sklearn.metrics import recall_score, f1_score, balanced_accuracy_score\n",
    "from preprocessing import load_dataset, split_train_test_validation, corresponding_features_interaction\n",
    "from utilities import print_log, print_full"
   ]
  },
  {
   "attachments": {},
   "cell_type": "markdown",
   "metadata": {},
   "source": [
    "First, we import the dataset and we split it."
   ]
  },
  {
   "cell_type": "code",
   "execution_count": 20,
   "metadata": {},
   "outputs": [],
   "source": [
    "test_size = 0.1        # the ratio of the dataset we want to use as test set\n",
    "val_size = 0.2         # the ratio of the dataset we want to use as validation set\n",
    "stratify=True\n",
    "\n",
    "# first, we load the dataset\n",
    "X, y = load_dataset('./data/data.pkl')\n",
    "# then, we split it\n",
    "X_tr, y_tr, X_te, y_te, X_val, y_val = split_train_test_validation(X, y, test=test_size, val=val_size, stratify=stratify)\n",
    "\n",
    "# generate the dataset version with interaction, with/without drop\n",
    "X_tr_drop = corresponding_features_interaction(X_tr, drop=True)\n",
    "X_tr_int = corresponding_features_interaction(X_tr, drop=False)\n",
    "\n",
    "X_val_drop = corresponding_features_interaction(X_val, drop=True)\n",
    "X_val_int = corresponding_features_interaction(X_val, drop=False)"
   ]
  },
  {
   "attachments": {},
   "cell_type": "markdown",
   "metadata": {},
   "source": [
    "Then, we create the Isolation Forest model."
   ]
  },
  {
   "cell_type": "code",
   "execution_count": 21,
   "metadata": {},
   "outputs": [],
   "source": [
    "# we want to use our a-priori knowledge on the dataset to inform the model about the percentage of our outliers\n",
    "match_ratio = np.sum(y)/len(y)\n",
    "# match_ratio = 0.5\n",
    "\n",
    "if_model = IsolationForest(contamination=match_ratio)"
   ]
  },
  {
   "attachments": {},
   "cell_type": "markdown",
   "metadata": {},
   "source": [
    "## No interactions\n",
    "First of all, we try to apply the model on the standard dataset (without interactions). We fit the model on the training set, and then we apply it to the validation set.\n",
    "\n",
    "If the predicted result is **+1**, then it is an _inlier_, meaning it should be labeled as 0. Otherwise, if the result is **-1**, it is an _outlier_, therefore it should be labeled as 1."
   ]
  },
  {
   "cell_type": "code",
   "execution_count": 22,
   "metadata": {},
   "outputs": [
    {
     "name": "stdout",
     "output_type": "stream",
     "text": [
      "-----------------------------------------\n",
      "Recall : 0.12162162162162163\n",
      "Balanced accuracy: 0.4615645796550319\n",
      "f1: 0.11111111111111113\n"
     ]
    }
   ],
   "source": [
    "# fit the model\n",
    "if_fit = if_model.fit(X_tr.values)\n",
    "# predict if it is an inlier\n",
    "is_inlier = np.array(if_fit.predict(X_val.values))\n",
    "# map the result as follows\n",
    "#   inlier (+1) -> 0\n",
    "#   outlier (-1) -> 1\n",
    "y_pred = (1-is_inlier)/2\n",
    "# compute metrics\n",
    "res = {\n",
    "    'best_recall': recall_score(y_val, y_pred),\n",
    "    'best_balanced_accuracy': balanced_accuracy_score(y_val, y_pred),\n",
    "    'best_f1': f1_score(y_val, y_pred),\n",
    "}\n",
    "# print results\n",
    "print_log(res, is_grid=False)"
   ]
  },
  {
   "attachments": {},
   "cell_type": "markdown",
   "metadata": {},
   "source": [
    "## Interactions, no drop"
   ]
  },
  {
   "cell_type": "code",
   "execution_count": 23,
   "metadata": {},
   "outputs": [
    {
     "name": "stdout",
     "output_type": "stream",
     "text": [
      "-----------------------------------------\n",
      "Recall : 0.16216216216216217\n",
      "Balanced accuracy: 0.49439766399565394\n",
      "f1: 0.15483870967741936\n"
     ]
    }
   ],
   "source": [
    "# fit the model\n",
    "if_fit = if_model.fit(X_tr_int.values)\n",
    "# predict if it is an inlier\n",
    "is_inlier = np.array(if_fit.predict(X_val_int.values))\n",
    "# map the result as follows\n",
    "#   inlier (+1) -> 0\n",
    "#   outlier (-1) -> 1\n",
    "y_pred = (1-is_inlier)/2\n",
    "# compute metrics\n",
    "res = {\n",
    "    'best_recall': recall_score(y_val, y_pred),\n",
    "    'best_balanced_accuracy': balanced_accuracy_score(y_val, y_pred),\n",
    "    'best_f1': f1_score(y_val, y_pred),\n",
    "}\n",
    "# print results\n",
    "print_log(res, is_grid=False)"
   ]
  },
  {
   "attachments": {},
   "cell_type": "markdown",
   "metadata": {},
   "source": [
    "## Interactions, drop"
   ]
  },
  {
   "cell_type": "code",
   "execution_count": 24,
   "metadata": {},
   "outputs": [
    {
     "name": "stdout",
     "output_type": "stream",
     "text": [
      "-----------------------------------------\n",
      "Recall : 0.1891891891891892\n",
      "Balanced accuracy: 0.5192177101724841\n",
      "f1: 0.18918918918918917\n"
     ]
    }
   ],
   "source": [
    "# fit the model\n",
    "if_fit = if_model.fit(X_tr_drop.values)\n",
    "# predict if it is an inlier\n",
    "is_inlier = np.array(if_fit.predict(X_val_drop.values))\n",
    "# map the result as follows\n",
    "#   inlier (+1) -> 0\n",
    "#   outlier (-1) -> 1\n",
    "y_pred = (1-is_inlier)/2\n",
    "# compute metrics\n",
    "res = {\n",
    "    'best_recall': recall_score(y_val, y_pred),\n",
    "    'best_balanced_accuracy': balanced_accuracy_score(y_val, y_pred),\n",
    "    'best_f1': f1_score(y_val, y_pred),\n",
    "}\n",
    "# print results\n",
    "print_log(res, is_grid=False)"
   ]
  }
 ],
 "metadata": {
  "kernelspec": {
   "display_name": "malis",
   "language": "python",
   "name": "python3"
  },
  "language_info": {
   "codemirror_mode": {
    "name": "ipython",
    "version": 3
   },
   "file_extension": ".py",
   "mimetype": "text/x-python",
   "name": "python",
   "nbconvert_exporter": "python",
   "pygments_lexer": "ipython3",
   "version": "3.8.15"
  },
  "orig_nbformat": 4,
  "vscode": {
   "interpreter": {
    "hash": "ed4e3ac2dee6d7ea23d9357d8763e97335b161f3cf4ef28228558896c7dee292"
   }
  }
 },
 "nbformat": 4,
 "nbformat_minor": 2
}
